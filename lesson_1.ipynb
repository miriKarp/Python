{
 "cells": [
  {
   "cell_type": "code",
   "execution_count": 1,
   "id": "d44204ed-abc8-41c0-9137-c1a0fa8eaad3",
   "metadata": {},
   "outputs": [
    {
     "name": "stdout",
     "output_type": "stream",
     "text": [
      "Defaulting to user installation because normal site-packages is not writeable\n",
      "Requirement already satisfied: numpy in c:\\users\\user\\appdata\\roaming\\python\\python312\\site-packages (1.26.4)\n",
      "Note: you may need to restart the kernel to use updated packages.\n"
     ]
    },
    {
     "name": "stderr",
     "output_type": "stream",
     "text": [
      "\n",
      "[notice] A new release of pip is available: 23.3.1 -> 24.0\n",
      "[notice] To update, run: python.exe -m pip install --upgrade pip\n"
     ]
    }
   ],
   "source": [
    "pip install numpy\n"
   ]
  },
  {
   "cell_type": "code",
   "execution_count": 2,
   "id": "58574331-5847-43d8-945e-badfb18da389",
   "metadata": {},
   "outputs": [],
   "source": [
    "import numpy as np\n"
   ]
  },
  {
   "cell_type": "code",
   "execution_count": 11,
   "id": "5bf8ae88-fb04-4024-a3a2-1922d6a6adc4",
   "metadata": {},
   "outputs": [
    {
     "data": {
      "text/plain": [
       "array([36, 30,  9, 28, 15, 48, 14, 29, 40, 25])"
      ]
     },
     "execution_count": 11,
     "metadata": {},
     "output_type": "execute_result"
    }
   ],
   "source": [
    "random_int_array = np.random.randint(1, 50, size=(10))\n",
    "random_int_array"
   ]
  },
  {
   "cell_type": "code",
   "execution_count": 13,
   "id": "65c51346-69f6-4139-8925-9930d4f7f173",
   "metadata": {},
   "outputs": [
    {
     "data": {
      "text/plain": [
       "27.4"
      ]
     },
     "execution_count": 13,
     "metadata": {},
     "output_type": "execute_result"
    }
   ],
   "source": [
    "avarage=np.mean(random_int_array)\n",
    "avarage"
   ]
  },
  {
   "cell_type": "code",
   "execution_count": 3,
   "id": "531fa4d9-48df-4a52-a738-2a4572190b5a",
   "metadata": {},
   "outputs": [
    {
     "data": {
      "text/plain": [
       "array([[1, 2, 3],\n",
       "       [4, 5, 6],\n",
       "       [5, 6, 7]])"
      ]
     },
     "execution_count": 3,
     "metadata": {},
     "output_type": "execute_result"
    }
   ],
   "source": [
    "two_dim = np.array([[1, 2, 3], [4, 5, 6], [5, 6, 7]])\n",
    "two_dim"
   ]
  },
  {
   "cell_type": "code",
   "execution_count": 15,
   "id": "9dc217f3-1bb1-45e9-8f6d-16433e4a28a8",
   "metadata": {},
   "outputs": [
    {
     "data": {
      "text/plain": [
       "array([ 1,  2,  3,  4,  5,  6,  7,  8,  9, 10])"
      ]
     },
     "execution_count": 15,
     "metadata": {},
     "output_type": "execute_result"
    }
   ],
   "source": [
    "arr = np.arange(1, 11)\n",
    "arr"
   ]
  },
  {
   "cell_type": "code",
   "execution_count": 5,
   "id": "e34faae4-4b0a-4bd6-8f47-ebf578f6d22d",
   "metadata": {},
   "outputs": [
    {
     "data": {
      "text/plain": [
       "19.0"
      ]
     },
     "execution_count": 5,
     "metadata": {},
     "output_type": "execute_result"
    }
   ],
   "source": [
    "a = np.array([[1, 2, 3], [4, 5, 6], [7,8,9]])\n",
    "b = np.array([[10,11,12], [13,14,15], [16,17,18]])\n",
    "ab = np.add(a, b)\n",
    "ab\n",
    "np.mean(ab)"
   ]
  },
  {
   "cell_type": "code",
   "execution_count": 6,
   "id": "acaedf5c-6c96-4f8e-91e0-981046f10979",
   "metadata": {},
   "outputs": [
    {
     "data": {
      "text/plain": [
       "array([61, 87, 88, 96, 53, 62, 97, 52, 84, 98])"
      ]
     },
     "execution_count": 6,
     "metadata": {},
     "output_type": "execute_result"
    }
   ],
   "source": [
    "arr = np.random.randint(1, 100, size=(20))\n",
    "condition = arr > 50\n",
    "filtered_arr = arr[condition]\n",
    "filtered_arr"
   ]
  },
  {
   "cell_type": "code",
   "execution_count": 16,
   "id": "11070022-2dae-4198-b7bf-d10f0ecc0516",
   "metadata": {},
   "outputs": [
    {
     "data": {
      "text/plain": [
       "array([ 4,  3,  5,  2,  8,  9,  6,  7,  1, 10])"
      ]
     },
     "execution_count": 16,
     "metadata": {},
     "output_type": "execute_result"
    }
   ],
   "source": [
    "arr = np.arange(1, 11)\n",
    "np.random.shuffle(arr)\n",
    "arr"
   ]
  },
  {
   "cell_type": "code",
   "execution_count": 18,
   "id": "8bd0e310-1030-46f2-b2fe-244b6ff206fc",
   "metadata": {},
   "outputs": [
    {
     "data": {
      "text/plain": [
       "array([ 8, 10,  5])"
      ]
     },
     "execution_count": 18,
     "metadata": {},
     "output_type": "execute_result"
    }
   ],
   "source": [
    "arr = np.arange(1, 11)\n",
    "np.random.shuffle(arr)\n",
    "random_selected_element=np.random.choice(arr,size=3,replace=False)\n",
    "random_selected_element"
   ]
  },
  {
   "cell_type": "code",
   "execution_count": 19,
   "id": "23bd6bb6-84c2-4f82-8d67-bf7ba479f469",
   "metadata": {},
   "outputs": [
    {
     "data": {
      "text/plain": [
       "array([4])"
      ]
     },
     "execution_count": 19,
     "metadata": {},
     "output_type": "execute_result"
    }
   ],
   "source": [
    "arr = np.arange(1, 11)\n",
    "np.random.shuffle(arr)\n",
    "random_selected_element=np.random.choice(arr,size=1,replace=False)\n",
    "random_selected_element"
   ]
  },
  {
   "cell_type": "code",
   "execution_count": null,
   "id": "0185d36f-b7dd-444f-9774-199cfb0ff2f3",
   "metadata": {},
   "outputs": [],
   "source": []
  }
 ],
 "metadata": {
  "kernelspec": {
   "display_name": "Python 3 (ipykernel)",
   "language": "python",
   "name": "python3"
  },
  "language_info": {
   "codemirror_mode": {
    "name": "ipython",
    "version": 3
   },
   "file_extension": ".py",
   "mimetype": "text/x-python",
   "name": "python",
   "nbconvert_exporter": "python",
   "pygments_lexer": "ipython3",
   "version": "3.12.0"
  }
 },
 "nbformat": 4,
 "nbformat_minor": 5
}
